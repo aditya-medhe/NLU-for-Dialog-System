{
 "cells": [
  {
   "cell_type": "code",
   "execution_count": 1,
   "id": "0afc1e87",
   "metadata": {},
   "outputs": [],
   "source": [
    "import numpy as np\n",
    "import pandas as pd\n",
    "from sklearn.metrics import accuracy_score, precision_score, recall_score, f1_score\n",
    "from sklearn.model_selection import train_test_split\n",
    "from torch.utils.data import DataLoader, TensorDataset\n",
    "from transformers import BertTokenizer, BertForSequenceClassification, AdamW\n",
    "import torch\n",
    "from sklearn.preprocessing import LabelEncoder\n",
    "import spacy\n",
    "from sklearn.feature_extraction.text import TfidfVectorizer\n",
    "from sklearn.ensemble import RandomForestClassifier\n",
    "from sklearn.pipeline import Pipeline\n",
    "import sys "
   ]
  },
  {
   "cell_type": "code",
   "execution_count": 2,
   "id": "551e28a1",
   "metadata": {},
   "outputs": [],
   "source": [
    "# Load dataset\n",
    "data = pd.read_csv(r\"C:\\Users\\aadya\\Desktop\\ChatBot\\Flight.csv\") "
   ]
  },
  {
   "cell_type": "code",
   "execution_count": 3,
   "id": "2735e893",
   "metadata": {},
   "outputs": [
    {
     "data": {
      "text/html": [
       "<div>\n",
       "<style scoped>\n",
       "    .dataframe tbody tr th:only-of-type {\n",
       "        vertical-align: middle;\n",
       "    }\n",
       "\n",
       "    .dataframe tbody tr th {\n",
       "        vertical-align: top;\n",
       "    }\n",
       "\n",
       "    .dataframe thead th {\n",
       "        text-align: right;\n",
       "    }\n",
       "</style>\n",
       "<table border=\"1\" class=\"dataframe\">\n",
       "  <thead>\n",
       "    <tr style=\"text-align: right;\">\n",
       "      <th></th>\n",
       "      <th>Airline</th>\n",
       "      <th>Date</th>\n",
       "      <th>Flight_Duration</th>\n",
       "      <th>Stops</th>\n",
       "      <th>Time_total</th>\n",
       "      <th>class_type</th>\n",
       "      <th>Flight_price</th>\n",
       "    </tr>\n",
       "  </thead>\n",
       "  <tbody>\n",
       "    <tr>\n",
       "      <th>0</th>\n",
       "      <td>Spirit Airlines</td>\n",
       "      <td>2023-12-01</td>\n",
       "      <td>12h 44mBOS-ORD</td>\n",
       "      <td>1 stop</td>\n",
       "      <td>9:44 pm – 9:28 am+1</td>\n",
       "      <td>Economy</td>\n",
       "      <td>$82</td>\n",
       "    </tr>\n",
       "    <tr>\n",
       "      <th>1</th>\n",
       "      <td>American Airlines</td>\n",
       "      <td>2023-12-01</td>\n",
       "      <td>2h 48mBOS-ORD</td>\n",
       "      <td>nonstop</td>\n",
       "      <td>6:52 am – 8:40 am</td>\n",
       "      <td>Basic Economy</td>\n",
       "      <td>$89</td>\n",
       "    </tr>\n",
       "    <tr>\n",
       "      <th>2</th>\n",
       "      <td>Spirit Airlines</td>\n",
       "      <td>2023-12-01</td>\n",
       "      <td>12h 44mBOS-ORD</td>\n",
       "      <td>1 stop</td>\n",
       "      <td>9:44 pm – 9:28 am+1</td>\n",
       "      <td>Economy</td>\n",
       "      <td>$82</td>\n",
       "    </tr>\n",
       "    <tr>\n",
       "      <th>3</th>\n",
       "      <td>JetBlue</td>\n",
       "      <td>2023-12-01</td>\n",
       "      <td>3h 01mBOS-ORD</td>\n",
       "      <td>nonstop</td>\n",
       "      <td>4:54 pm – 6:55 pm</td>\n",
       "      <td>Blue Basic</td>\n",
       "      <td>$109</td>\n",
       "    </tr>\n",
       "    <tr>\n",
       "      <th>4</th>\n",
       "      <td>United Airlines</td>\n",
       "      <td>2023-12-01</td>\n",
       "      <td>2h 57mBOS-ORD</td>\n",
       "      <td>nonstop</td>\n",
       "      <td>6:00 am – 7:57 am</td>\n",
       "      <td>Basic Economy</td>\n",
       "      <td>$106</td>\n",
       "    </tr>\n",
       "    <tr>\n",
       "      <th>5</th>\n",
       "      <td>JetBlue</td>\n",
       "      <td>2023-12-01</td>\n",
       "      <td>3h 00mBOS-ORD</td>\n",
       "      <td>nonstop</td>\n",
       "      <td>7:05 am – 9:05 am</td>\n",
       "      <td>Blue Basic</td>\n",
       "      <td>$119</td>\n",
       "    </tr>\n",
       "    <tr>\n",
       "      <th>6</th>\n",
       "      <td>Delta</td>\n",
       "      <td>2023-12-01</td>\n",
       "      <td>3h 05mBOS-ORD</td>\n",
       "      <td>nonstop</td>\n",
       "      <td>5:45 pm – 7:50 pm</td>\n",
       "      <td>Basic Economy</td>\n",
       "      <td>$139</td>\n",
       "    </tr>\n",
       "    <tr>\n",
       "      <th>7</th>\n",
       "      <td>Delta</td>\n",
       "      <td>2023-12-01</td>\n",
       "      <td>2h 59mBOS-ORD</td>\n",
       "      <td>nonstop</td>\n",
       "      <td>6:05 am – 8:04 am</td>\n",
       "      <td>Basic Economy</td>\n",
       "      <td>$139</td>\n",
       "    </tr>\n",
       "    <tr>\n",
       "      <th>8</th>\n",
       "      <td>American Airlines</td>\n",
       "      <td>2023-12-01</td>\n",
       "      <td>2h 58mBOS-ORD</td>\n",
       "      <td>nonstop</td>\n",
       "      <td>5:40 pm – 7:38 pm</td>\n",
       "      <td>Basic Economy</td>\n",
       "      <td>$144</td>\n",
       "    </tr>\n",
       "    <tr>\n",
       "      <th>9</th>\n",
       "      <td>United Airlines</td>\n",
       "      <td>2023-12-01</td>\n",
       "      <td>2h 57mBOS-ORD</td>\n",
       "      <td>nonstop</td>\n",
       "      <td>6:28 pm – 8:25 pm</td>\n",
       "      <td>Basic Economy</td>\n",
       "      <td>$142</td>\n",
       "    </tr>\n",
       "  </tbody>\n",
       "</table>\n",
       "</div>"
      ],
      "text/plain": [
       "             Airline        Date Flight_Duration    Stops  \\\n",
       "0    Spirit Airlines  2023-12-01  12h 44mBOS-ORD   1 stop   \n",
       "1  American Airlines  2023-12-01   2h 48mBOS-ORD  nonstop   \n",
       "2    Spirit Airlines  2023-12-01  12h 44mBOS-ORD   1 stop   \n",
       "3            JetBlue  2023-12-01   3h 01mBOS-ORD  nonstop   \n",
       "4    United Airlines  2023-12-01   2h 57mBOS-ORD  nonstop   \n",
       "5            JetBlue  2023-12-01   3h 00mBOS-ORD  nonstop   \n",
       "6              Delta  2023-12-01   3h 05mBOS-ORD  nonstop   \n",
       "7              Delta  2023-12-01   2h 59mBOS-ORD  nonstop   \n",
       "8  American Airlines  2023-12-01   2h 58mBOS-ORD  nonstop   \n",
       "9    United Airlines  2023-12-01   2h 57mBOS-ORD  nonstop   \n",
       "\n",
       "            Time_total     class_type Flight_price  \n",
       "0  9:44 pm – 9:28 am+1        Economy          $82  \n",
       "1    6:52 am – 8:40 am  Basic Economy          $89  \n",
       "2  9:44 pm – 9:28 am+1        Economy          $82  \n",
       "3    4:54 pm – 6:55 pm     Blue Basic         $109  \n",
       "4    6:00 am – 7:57 am  Basic Economy         $106  \n",
       "5    7:05 am – 9:05 am     Blue Basic         $119  \n",
       "6    5:45 pm – 7:50 pm  Basic Economy         $139  \n",
       "7    6:05 am – 8:04 am  Basic Economy         $139  \n",
       "8    5:40 pm – 7:38 pm  Basic Economy         $144  \n",
       "9    6:28 pm – 8:25 pm  Basic Economy         $142  "
      ]
     },
     "execution_count": 3,
     "metadata": {},
     "output_type": "execute_result"
    }
   ],
   "source": [
    "data.head(10)"
   ]
  },
  {
   "cell_type": "code",
   "execution_count": 4,
   "id": "b51edab3",
   "metadata": {},
   "outputs": [],
   "source": [
    "# Step 1: Data Acquisition\n",
    "X = data['Airline']\n",
    "y = data['class_type']"
   ]
  },
  {
   "cell_type": "code",
   "execution_count": 5,
   "id": "f2770d90",
   "metadata": {},
   "outputs": [],
   "source": [
    "# Step 2: Intent Recognition\n",
    "# Split data into train and test sets\n",
    "X_train, X_test, y_train, y_test = train_test_split(X, y, test_size=0.2, random_state=42)"
   ]
  },
  {
   "cell_type": "code",
   "execution_count": 6,
   "id": "54c60a2e",
   "metadata": {},
   "outputs": [],
   "source": [
    "# Initialize NLP pipeline for entity extraction\n",
    "nlp = spacy.load(\"en_core_web_sm\")  "
   ]
  },
  {
   "cell_type": "code",
   "execution_count": 7,
   "id": "f300d165",
   "metadata": {},
   "outputs": [],
   "source": [
    "# Define intent classifier pipeline\n",
    "intent_classifier = Pipeline([\n",
    "    (\"tfidf\", TfidfVectorizer()),\n",
    "    (\"clf\", RandomForestClassifier()) \n",
    "])"
   ]
  },
  {
   "cell_type": "code",
   "execution_count": 8,
   "id": "b0237dd6",
   "metadata": {},
   "outputs": [
    {
     "data": {
      "text/html": [
       "<style>#sk-container-id-1 {color: black;}#sk-container-id-1 pre{padding: 0;}#sk-container-id-1 div.sk-toggleable {background-color: white;}#sk-container-id-1 label.sk-toggleable__label {cursor: pointer;display: block;width: 100%;margin-bottom: 0;padding: 0.3em;box-sizing: border-box;text-align: center;}#sk-container-id-1 label.sk-toggleable__label-arrow:before {content: \"▸\";float: left;margin-right: 0.25em;color: #696969;}#sk-container-id-1 label.sk-toggleable__label-arrow:hover:before {color: black;}#sk-container-id-1 div.sk-estimator:hover label.sk-toggleable__label-arrow:before {color: black;}#sk-container-id-1 div.sk-toggleable__content {max-height: 0;max-width: 0;overflow: hidden;text-align: left;background-color: #f0f8ff;}#sk-container-id-1 div.sk-toggleable__content pre {margin: 0.2em;color: black;border-radius: 0.25em;background-color: #f0f8ff;}#sk-container-id-1 input.sk-toggleable__control:checked~div.sk-toggleable__content {max-height: 200px;max-width: 100%;overflow: auto;}#sk-container-id-1 input.sk-toggleable__control:checked~label.sk-toggleable__label-arrow:before {content: \"▾\";}#sk-container-id-1 div.sk-estimator input.sk-toggleable__control:checked~label.sk-toggleable__label {background-color: #d4ebff;}#sk-container-id-1 div.sk-label input.sk-toggleable__control:checked~label.sk-toggleable__label {background-color: #d4ebff;}#sk-container-id-1 input.sk-hidden--visually {border: 0;clip: rect(1px 1px 1px 1px);clip: rect(1px, 1px, 1px, 1px);height: 1px;margin: -1px;overflow: hidden;padding: 0;position: absolute;width: 1px;}#sk-container-id-1 div.sk-estimator {font-family: monospace;background-color: #f0f8ff;border: 1px dotted black;border-radius: 0.25em;box-sizing: border-box;margin-bottom: 0.5em;}#sk-container-id-1 div.sk-estimator:hover {background-color: #d4ebff;}#sk-container-id-1 div.sk-parallel-item::after {content: \"\";width: 100%;border-bottom: 1px solid gray;flex-grow: 1;}#sk-container-id-1 div.sk-label:hover label.sk-toggleable__label {background-color: #d4ebff;}#sk-container-id-1 div.sk-serial::before {content: \"\";position: absolute;border-left: 1px solid gray;box-sizing: border-box;top: 0;bottom: 0;left: 50%;z-index: 0;}#sk-container-id-1 div.sk-serial {display: flex;flex-direction: column;align-items: center;background-color: white;padding-right: 0.2em;padding-left: 0.2em;position: relative;}#sk-container-id-1 div.sk-item {position: relative;z-index: 1;}#sk-container-id-1 div.sk-parallel {display: flex;align-items: stretch;justify-content: center;background-color: white;position: relative;}#sk-container-id-1 div.sk-item::before, #sk-container-id-1 div.sk-parallel-item::before {content: \"\";position: absolute;border-left: 1px solid gray;box-sizing: border-box;top: 0;bottom: 0;left: 50%;z-index: -1;}#sk-container-id-1 div.sk-parallel-item {display: flex;flex-direction: column;z-index: 1;position: relative;background-color: white;}#sk-container-id-1 div.sk-parallel-item:first-child::after {align-self: flex-end;width: 50%;}#sk-container-id-1 div.sk-parallel-item:last-child::after {align-self: flex-start;width: 50%;}#sk-container-id-1 div.sk-parallel-item:only-child::after {width: 0;}#sk-container-id-1 div.sk-dashed-wrapped {border: 1px dashed gray;margin: 0 0.4em 0.5em 0.4em;box-sizing: border-box;padding-bottom: 0.4em;background-color: white;}#sk-container-id-1 div.sk-label label {font-family: monospace;font-weight: bold;display: inline-block;line-height: 1.2em;}#sk-container-id-1 div.sk-label-container {text-align: center;}#sk-container-id-1 div.sk-container {/* jupyter's `normalize.less` sets `[hidden] { display: none; }` but bootstrap.min.css set `[hidden] { display: none !important; }` so we also need the `!important` here to be able to override the default hidden behavior on the sphinx rendered scikit-learn.org. See: https://github.com/scikit-learn/scikit-learn/issues/21755 */display: inline-block !important;position: relative;}#sk-container-id-1 div.sk-text-repr-fallback {display: none;}</style><div id=\"sk-container-id-1\" class=\"sk-top-container\"><div class=\"sk-text-repr-fallback\"><pre>Pipeline(steps=[(&#x27;tfidf&#x27;, TfidfVectorizer()),\n",
       "                (&#x27;clf&#x27;, RandomForestClassifier())])</pre><b>In a Jupyter environment, please rerun this cell to show the HTML representation or trust the notebook. <br />On GitHub, the HTML representation is unable to render, please try loading this page with nbviewer.org.</b></div><div class=\"sk-container\" hidden><div class=\"sk-item sk-dashed-wrapped\"><div class=\"sk-label-container\"><div class=\"sk-label sk-toggleable\"><input class=\"sk-toggleable__control sk-hidden--visually\" id=\"sk-estimator-id-1\" type=\"checkbox\" ><label for=\"sk-estimator-id-1\" class=\"sk-toggleable__label sk-toggleable__label-arrow\">Pipeline</label><div class=\"sk-toggleable__content\"><pre>Pipeline(steps=[(&#x27;tfidf&#x27;, TfidfVectorizer()),\n",
       "                (&#x27;clf&#x27;, RandomForestClassifier())])</pre></div></div></div><div class=\"sk-serial\"><div class=\"sk-item\"><div class=\"sk-estimator sk-toggleable\"><input class=\"sk-toggleable__control sk-hidden--visually\" id=\"sk-estimator-id-2\" type=\"checkbox\" ><label for=\"sk-estimator-id-2\" class=\"sk-toggleable__label sk-toggleable__label-arrow\">TfidfVectorizer</label><div class=\"sk-toggleable__content\"><pre>TfidfVectorizer()</pre></div></div></div><div class=\"sk-item\"><div class=\"sk-estimator sk-toggleable\"><input class=\"sk-toggleable__control sk-hidden--visually\" id=\"sk-estimator-id-3\" type=\"checkbox\" ><label for=\"sk-estimator-id-3\" class=\"sk-toggleable__label sk-toggleable__label-arrow\">RandomForestClassifier</label><div class=\"sk-toggleable__content\"><pre>RandomForestClassifier()</pre></div></div></div></div></div></div></div>"
      ],
      "text/plain": [
       "Pipeline(steps=[('tfidf', TfidfVectorizer()),\n",
       "                ('clf', RandomForestClassifier())])"
      ]
     },
     "execution_count": 8,
     "metadata": {},
     "output_type": "execute_result"
    }
   ],
   "source": [
    "# Train intent classifier\n",
    "intent_classifier.fit(X_train, y_train)"
   ]
  },
  {
   "cell_type": "code",
   "execution_count": 9,
   "id": "2e1c4a0b",
   "metadata": {},
   "outputs": [
    {
     "name": "stderr",
     "output_type": "stream",
     "text": [
      "C:\\ProgramData\\anaconda3\\Lib\\site-packages\\sklearn\\metrics\\_classification.py:1469: UndefinedMetricWarning: Precision is ill-defined and being set to 0.0 in labels with no predicted samples. Use `zero_division` parameter to control this behavior.\n",
      "  _warn_prf(average, modifier, msg_start, len(result))\n"
     ]
    }
   ],
   "source": [
    "\n",
    "# Evaluate intent classifier\n",
    "intent_predictions = intent_classifier.predict(X_test)\n",
    "accuracy = accuracy_score(y_test, intent_predictions)\n",
    "precision = precision_score(y_test, intent_predictions, average='weighted')\n",
    "recall = recall_score(y_test, intent_predictions, average='weighted')\n",
    "f1 = f1_score(y_test, intent_predictions, average='weighted')"
   ]
  },
  {
   "cell_type": "code",
   "execution_count": 10,
   "id": "c9fc6c00",
   "metadata": {},
   "outputs": [
    {
     "name": "stdout",
     "output_type": "stream",
     "text": [
      "Intent Classification Metrics:\n",
      "Accuracy: 0.8293216630196937\n",
      "Precision: 0.7376523913723039\n",
      "Recall: 0.8293216630196937\n",
      "F1 Score: 0.7727208035955434\n"
     ]
    }
   ],
   "source": [
    "print(\"Intent Classification Metrics:\")\n",
    "print(\"Accuracy:\", accuracy)\n",
    "print(\"Precision:\", precision)\n",
    "print(\"Recall:\", recall)\n",
    "print(\"F1 Score:\", f1)"
   ]
  },
  {
   "cell_type": "code",
   "execution_count": 11,
   "id": "f90ed965",
   "metadata": {},
   "outputs": [],
   "source": [
    "# Step 3: Entity Extraction\n",
    "# Define named entity recognition (NER) function\n",
    "def extract_entities(text):\n",
    "    doc = nlp(text)\n",
    "    entities = []\n",
    "    for ent in doc.ents:\n",
    "        entities.append((ent.text, ent.label_))\n",
    "    return entities"
   ]
  },
  {
   "cell_type": "code",
   "execution_count": 12,
   "id": "fccac827",
   "metadata": {},
   "outputs": [
    {
     "name": "stdout",
     "output_type": "stream",
     "text": [
      "Entities: [('New York', 'GPE'), ('London', 'GPE'), ('tomorrow', 'DATE')]\n"
     ]
    }
   ],
   "source": [
    "# Example usage of NER function\n",
    "text = \"Book a flight from New York to London tomorrow\"\n",
    "entities = extract_entities(text)\n",
    "print(\"Entities:\", entities)"
   ]
  },
  {
   "cell_type": "code",
   "execution_count": 13,
   "id": "ac47e5e3",
   "metadata": {},
   "outputs": [],
   "source": [
    "# Step 4: Slot Filling and Context Handling\n",
    "# Define functions for slot filling based on extracted entities and maintaining conversation context\n",
    "\n",
    "# Define a function to fill slots based on extracted entities\n",
    "def fill_slots(entities):\n",
    "    slots = {}\n",
    "    for entity, label in entities:\n",
    "        if label == 'DATE':\n",
    "            slots['date'] = entity\n",
    "        elif label == 'LOC':\n",
    "            slots['location'] = entity\n",
    "        # Add more conditions for other entity types as needed\n",
    "    return slots"
   ]
  },
  {
   "cell_type": "code",
   "execution_count": 14,
   "id": "ca1fea6e",
   "metadata": {},
   "outputs": [
    {
     "name": "stdout",
     "output_type": "stream",
     "text": [
      "Slots: {'location': 'New York', 'date': 'December 25th'}\n"
     ]
    }
   ],
   "source": [
    "# Example usage of slot filling function\n",
    "entities = [('New York', 'LOC'), ('December 25th', 'DATE')]\n",
    "slots = fill_slots(entities)\n",
    "print(\"Slots:\", slots)"
   ]
  },
  {
   "cell_type": "code",
   "execution_count": 15,
   "id": "bffbd0a6",
   "metadata": {},
   "outputs": [],
   "source": [
    "# Define a function to maintain conversation context\n",
    "def manage_context(previous_context, current_intent, current_slots):\n",
    "    # Implement logic to maintain context based on previous context, current intent, and slots\n",
    "    # Example: Update previous context with current intent and slots\n",
    "    updated_context = {\n",
    "        'intent': current_intent,\n",
    "        'slots': current_slots\n",
    "    }\n",
    "    return updated_context"
   ]
  },
  {
   "cell_type": "code",
   "execution_count": 16,
   "id": "4d019162",
   "metadata": {},
   "outputs": [
    {
     "name": "stdout",
     "output_type": "stream",
     "text": [
      "Updated Context: {'intent': 'GetWeather', 'slots': {'location': 'London'}}\n"
     ]
    }
   ],
   "source": [
    "# Example usage of context management function\n",
    "previous_context = {'intent': 'BookFlight', 'slots': {'from': 'New York'}}\n",
    "current_intent = 'GetWeather'\n",
    "current_slots = {'location': 'London'}\n",
    "updated_context = manage_context(previous_context, current_intent, current_slots)\n",
    "print(\"Updated Context:\", updated_context)"
   ]
  },
  {
   "cell_type": "code",
   "execution_count": 17,
   "id": "e9845969",
   "metadata": {},
   "outputs": [],
   "source": [
    "# Step 5: Dialog Management\n",
    "# Define rules or a simple model to generate responses based on intents and slots\n",
    "# We'll create a simple rule-based dialog management system\n",
    "\n",
    "def generate_response(intent, slots):\n",
    "    if intent == 'BookFlight':\n",
    "        if 'from' in slots and 'to' in slots and 'date' in slots:\n",
    "            return f\"Booking flight from {slots['from']} to {slots['to']} on {slots['date']}\"\n",
    "        else:\n",
    "            return \"Please provide missing information to book a flight.\"\n",
    "    elif intent == 'GetWeather':\n",
    "        if 'location' in slots and 'date' in slots:\n",
    "            return f\"Fetching weather forecast for {slots['location']} on {slots['date']}\"\n",
    "        else:\n",
    "            return \"Please provide location and date for weather forecast.\"\n",
    "    else:\n",
    "        return \"I'm sorry, I didn't understand that.\"\n"
   ]
  },
  {
   "cell_type": "code",
   "execution_count": 18,
   "id": "119e3797",
   "metadata": {},
   "outputs": [
    {
     "name": "stdout",
     "output_type": "stream",
     "text": [
      "Response: Booking flight from New York to London on December 25th\n"
     ]
    }
   ],
   "source": [
    "# Example usage of response generation function\n",
    "intent = 'BookFlight'\n",
    "slots = {'from': 'New York', 'to': 'London', 'date': 'December 25th'}\n",
    "response = generate_response(intent, slots)\n",
    "print(\"Response:\", response)"
   ]
  },
  {
   "cell_type": "code",
   "execution_count": 19,
   "id": "a3327ab1",
   "metadata": {},
   "outputs": [
    {
     "name": "stderr",
     "output_type": "stream",
     "text": [
      "C:\\ProgramData\\anaconda3\\Lib\\site-packages\\sklearn\\metrics\\_classification.py:1469: UndefinedMetricWarning: Precision is ill-defined and being set to 0.0 in labels with no predicted samples. Use `zero_division` parameter to control this behavior.\n",
      "  _warn_prf(average, modifier, msg_start, len(result))\n"
     ]
    }
   ],
   "source": [
    "# Model Evaluation\n",
    "# Evaluate Intent Recognition Model\n",
    "intent_accuracy = accuracy_score(y_test, intent_predictions)\n",
    "intent_precision = precision_score(y_test, intent_predictions, average='weighted')\n",
    "intent_recall = recall_score(y_test, intent_predictions, average='weighted')\n",
    "intent_f1 = f1_score(y_test, intent_predictions, average='weighted')"
   ]
  },
  {
   "cell_type": "code",
   "execution_count": 20,
   "id": "286b9036",
   "metadata": {},
   "outputs": [
    {
     "name": "stdout",
     "output_type": "stream",
     "text": [
      "Intent Recognition Metrics:\n",
      "Accuracy: 0.8293216630196937\n",
      "Precision: 0.7376523913723039\n",
      "Recall: 0.8293216630196937\n",
      "F1 Score: 0.7727208035955434\n"
     ]
    }
   ],
   "source": [
    "print(\"Intent Recognition Metrics:\")\n",
    "print(\"Accuracy:\", intent_accuracy)\n",
    "print(\"Precision:\", intent_precision)\n",
    "print(\"Recall:\", intent_recall)\n",
    "print(\"F1 Score:\", intent_f1)"
   ]
  },
  {
   "cell_type": "code",
   "execution_count": 21,
   "id": "81649e53",
   "metadata": {},
   "outputs": [
    {
     "name": "stderr",
     "output_type": "stream",
     "text": [
      "Some weights of BertForSequenceClassification were not initialized from the model checkpoint at bert-base-uncased and are newly initialized: ['classifier.bias', 'classifier.weight']\n",
      "You should probably TRAIN this model on a down-stream task to be able to use it for predictions and inference.\n"
     ]
    }
   ],
   "source": [
    "# BERT Fine-tuning for Intent Recognition\n",
    "# Load BERT tokenizer and model\n",
    "tokenizer = BertTokenizer.from_pretrained('bert-base-uncased')\n",
    "num_labels = len(set(y))\n",
    "model = BertForSequenceClassification.from_pretrained('bert-base-uncased', num_labels=num_labels)"
   ]
  },
  {
   "cell_type": "code",
   "execution_count": 22,
   "id": "3458200f",
   "metadata": {},
   "outputs": [],
   "source": [
    "# Preprocess labels using LabelEncoder\n",
    "label_encoder = LabelEncoder()\n",
    "y_train_encoded = label_encoder.fit_transform(y_train)\n",
    "y_test_encoded = label_encoder.transform(y_test)"
   ]
  },
  {
   "cell_type": "code",
   "execution_count": 23,
   "id": "39ed45bc",
   "metadata": {},
   "outputs": [],
   "source": [
    "# Tokenize and encode input data\n",
    "X_train_encoded = tokenizer(list(X_train), padding=True, truncation=True, return_tensors=\"pt\")\n",
    "X_test_encoded = tokenizer(list(X_test), padding=True, truncation=True, return_tensors=\"pt\")"
   ]
  },
  {
   "cell_type": "code",
   "execution_count": 24,
   "id": "f8319b83",
   "metadata": {},
   "outputs": [],
   "source": [
    "# Create DataLoader for train and test sets\n",
    "batch_size = 32\n",
    "train_dataset = TensorDataset(X_train_encoded['input_ids'], X_train_encoded['attention_mask'], torch.tensor(y_train_encoded))\n",
    "test_dataset = TensorDataset(X_test_encoded['input_ids'], X_test_encoded['attention_mask'], torch.tensor(y_test_encoded))\n",
    "train_dataloader = DataLoader(train_dataset, batch_size=batch_size, shuffle=True)\n",
    "test_dataloader = DataLoader(test_dataset, batch_size=batch_size)"
   ]
  },
  {
   "cell_type": "code",
   "execution_count": 25,
   "id": "8c4fb670",
   "metadata": {},
   "outputs": [],
   "source": [
    "# Fine-tuning parameters\n",
    "learning_rate = 2e-5\n",
    "num_epochs = 3"
   ]
  },
  {
   "cell_type": "code",
   "execution_count": 26,
   "id": "eef6e1d9",
   "metadata": {},
   "outputs": [],
   "source": [
    "# Define optimizer using torch.optim.AdamW\n",
    "optimizer = torch.optim.AdamW(model.parameters(), lr=learning_rate)"
   ]
  },
  {
   "cell_type": "code",
   "execution_count": 27,
   "id": "89a5ab7c",
   "metadata": {},
   "outputs": [
    {
     "name": "stdout",
     "output_type": "stream",
     "text": [
      "Enter 'q' to stop execution: Book a flight from New York to London tomorrow\n",
      "Enter 'q' to stop execution: q\n",
      "Execution stopped by user.\n"
     ]
    },
    {
     "ename": "SystemExit",
     "evalue": "",
     "output_type": "error",
     "traceback": [
      "An exception has occurred, use %tb to see the full traceback.\n",
      "\u001b[1;31mSystemExit\u001b[0m\n"
     ]
    },
    {
     "name": "stderr",
     "output_type": "stream",
     "text": [
      "C:\\ProgramData\\anaconda3\\Lib\\site-packages\\IPython\\core\\interactiveshell.py:3513: UserWarning: To exit: use 'exit', 'quit', or Ctrl-D.\n",
      "  warn(\"To exit: use 'exit', 'quit', or Ctrl-D.\", stacklevel=1)\n"
     ]
    }
   ],
   "source": [
    "# Fine-tuning loop\n",
    "device = torch.device(\"cuda\" if torch.cuda.is_available() else \"cpu\")\n",
    "model.to(device)\n",
    "model.train()  # Set model to training mode\n",
    "for epoch in range(num_epochs):\n",
    "    for batch in train_dataloader:\n",
    "        input_ids, attention_mask, labels = batch\n",
    "        input_ids, attention_mask, labels = input_ids.to(device), attention_mask.to(device), labels.to(device)\n",
    "        \n",
    "        optimizer.zero_grad()\n",
    "        outputs = model(input_ids, attention_mask=attention_mask, labels=labels.long())  # Cast labels to torch.long\n",
    "        loss = outputs.loss\n",
    "        loss.backward()\n",
    "        optimizer.step()\n",
    "        \n",
    "        # Check for user input to stop execution\n",
    "        user_input = input(\"Enter 'q' to stop execution: \")\n",
    "        if user_input == 'q':\n",
    "            print(\"Execution stopped by user.\")\n",
    "            sys.exit()"
   ]
  },
  {
   "cell_type": "code",
   "execution_count": 28,
   "id": "ab0ad0aa",
   "metadata": {},
   "outputs": [],
   "source": [
    "# Evaluation\n",
    "model.eval()  # Set model to evaluation mode\n",
    "all_preds = []\n",
    "all_labels = []\n",
    "\n",
    "with torch.no_grad():\n",
    "    for batch in test_dataloader:\n",
    "        input_ids, attention_mask, labels = batch\n",
    "        input_ids, attention_mask, labels = input_ids.to(device), attention_mask.to(device), labels.to(device)\n",
    "        \n",
    "        outputs = model(input_ids, attention_mask=attention_mask)\n",
    "        logits = outputs.logits\n",
    "        preds = logits.argmax(dim=-1).cpu().numpy()\n",
    "        all_preds.extend(preds)\n",
    "        all_labels.extend(labels.cpu().numpy())"
   ]
  },
  {
   "cell_type": "code",
   "execution_count": 29,
   "id": "4c9a3fcf",
   "metadata": {},
   "outputs": [
    {
     "name": "stderr",
     "output_type": "stream",
     "text": [
      "C:\\ProgramData\\anaconda3\\Lib\\site-packages\\sklearn\\metrics\\_classification.py:1469: UndefinedMetricWarning: Precision is ill-defined and being set to 0.0 in labels with no predicted samples. Use `zero_division` parameter to control this behavior.\n",
      "  _warn_prf(average, modifier, msg_start, len(result))\n"
     ]
    }
   ],
   "source": [
    "# Calculate evaluation metrics\n",
    "accuracy = accuracy_score(all_labels, all_preds)\n",
    "precision = precision_score(all_labels, all_preds, average='weighted')\n",
    "recall = recall_score(all_labels, all_preds, average='weighted')\n",
    "f1 = f1_score(all_labels, all_preds, average='weighted')"
   ]
  },
  {
   "cell_type": "code",
   "execution_count": 30,
   "id": "a43b3c86",
   "metadata": {},
   "outputs": [
    {
     "name": "stdout",
     "output_type": "stream",
     "text": [
      "BERT Intent Classification Metrics:\n",
      "Accuracy: 0.5645514223194749\n",
      "Precision: 0.3194172521018081\n",
      "Recall: 0.5645514223194749\n",
      "F1 Score: 0.4079951455418054\n"
     ]
    }
   ],
   "source": [
    "# Print evaluation metrics\n",
    "print(\"BERT Intent Classification Metrics:\")\n",
    "print(\"Accuracy:\", accuracy)\n",
    "print(\"Precision:\", precision)\n",
    "print(\"Recall:\", recall)\n",
    "print(\"F1 Score:\", f1)"
   ]
  },
  {
   "cell_type": "code",
   "execution_count": null,
   "id": "27619d48",
   "metadata": {},
   "outputs": [],
   "source": []
  },
  {
   "cell_type": "code",
   "execution_count": null,
   "id": "3ad477a9",
   "metadata": {},
   "outputs": [],
   "source": []
  }
 ],
 "metadata": {
  "kernelspec": {
   "display_name": "Python 3 (ipykernel)",
   "language": "python",
   "name": "python3"
  },
  "language_info": {
   "codemirror_mode": {
    "name": "ipython",
    "version": 3
   },
   "file_extension": ".py",
   "mimetype": "text/x-python",
   "name": "python",
   "nbconvert_exporter": "python",
   "pygments_lexer": "ipython3",
   "version": "3.11.4"
  }
 },
 "nbformat": 4,
 "nbformat_minor": 5
}
